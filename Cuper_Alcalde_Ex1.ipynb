{
  "nbformat": 4,
  "nbformat_minor": 0,
  "metadata": {
    "colab": {
      "provenance": [],
      "include_colab_link": true
    },
    "kernelspec": {
      "name": "python3",
      "display_name": "Python 3"
    },
    "language_info": {
      "name": "python"
    }
  },
  "cells": [
    {
      "cell_type": "markdown",
      "metadata": {
        "id": "view-in-github",
        "colab_type": "text"
      },
      "source": [
        "<a href=\"https://colab.research.google.com/github/cup84/Programacion-Python/blob/main/Cuper_Alcalde_Ex1.ipynb\" target=\"_parent\"><img src=\"https://colab.research.google.com/assets/colab-badge.svg\" alt=\"Open In Colab\"/></a>"
      ]
    },
    {
      "cell_type": "code",
      "execution_count": null,
      "metadata": {
        "id": "47VReb5jpnfG"
      },
      "outputs": [],
      "source": [
        "## A continuación tienes un objeto que registra las ventas semanales de una tienda de electrodomésticos, se registra en el siguiente orden, desde la primera semana a la\n",
        "## ## doceava semana. (5 puntos)\n",
        "### Ventas_semanales = [25000, 28000, 31000, 27500, 33000, 29000, 35000, 32000, 30000, 28500, 26000, 33500]\n",
        "\n",
        "## 1. Identifica la semana con el mejor resultado de venta.\n",
        "## 2. Identifica la semana con el peor resultado de venta.\n",
        "## 3. Calcula la venta promedio de la tienda.\n",
        "## 4. Calcula alguna medida de dispersión de las ventas.\n",
        "## 5. Crea un diccionario con la información registrada en los puntos anteriores y nómbralo como info_ventas.\n",
        "\n"
      ]
    },
    {
      "cell_type": "code",
      "source": [
        "import numpy as np\n",
        "ventas_semanales= [25000, 28000, 31000, 27500, 33000, 29000, 35000, 32000, 30000, 28500, 26000, 33500]\n",
        "promedio_ventas = np.mean(ventas_semanales)\n",
        "\n",
        "semana_maximo = np.argmax(ventas_semanales) + 1\n",
        "semana_minimo = np.argmin(ventas_semanales) + 1\n",
        "venta_totales = np.sum(ventas_semanales)\n",
        "desviacion_estandar = np.std(ventas_semanales)\n",
        "\n",
        "info_ventas = {\n",
        "    \"semana_mejor_venta\": semana_maximo,\n",
        "    \"semana_peor_venta\": semana_minimo,\n",
        "    \"venta_promedio\": promedio_ventas,\n",
        "    \"desviacion_estandar\": desviacion_estandar\n",
        "}\n",
        "\n",
        "info_ventas"
      ],
      "metadata": {
        "colab": {
          "base_uri": "https://localhost:8080/"
        },
        "id": "qBMWX09W0uX-",
        "outputId": "fba5522c-90c4-4614-ec42-4fae521ea468"
      },
      "execution_count": null,
      "outputs": [
        {
          "output_type": "execute_result",
          "data": {
            "text/plain": [
              "{'semana_mejor_venta': 7,\n",
              " 'semana_peor_venta': 1,\n",
              " 'venta_promedio': 29875.0,\n",
              " 'desviacion_estandar': 2965.952629426168}"
            ]
          },
          "metadata": {},
          "execution_count": 5
        }
      ]
    },
    {
      "cell_type": "markdown",
      "source": [
        "2. Usted va simular el lanzamiento de dos a la vez, para ello es necesario que siga las\n",
        "siguientes instrucciones. (12 puntos)\n",
        "- Almacenar los resultados de lanzar un dado en una tupla de la siguiente manera\n",
        "tupla_dados = (1, 2, 3, 4, 5, 6).\n",
        "- Use la función random.choice(tupla_dados) para recrear la selección aleatoria al\n",
        "lanzar un dado. Importe la librería random (import random).\n",
        "- Simule el lanzamiento de dos a la vez, registre el valor obtenido por cada\n",
        "lanzamiento de cada dado.\n",
        "- Ingrese por teclado el número de lanzamientos de ambos dados a la vez.\n",
        "- Muestre los lanzamientos resultantes.\n",
        "- Muestre la sumatoria de los dos valores resultantes al lanzar dos dados a la vez."
      ],
      "metadata": {
        "id": "n79_Cp_mwoK5"
      }
    },
    {
      "cell_type": "code",
      "source": [
        "import random\n",
        "\n",
        "tupla_dados = (1, 2, 3, 4, 5, 6)\n",
        "\n",
        "def lanzamientos_dados ():\n",
        "  lanzamiento_1: random.choice(tupla_dados)\n",
        "  lanzamiento_2: random.choice(tupla_dados)\n",
        "  return lanzamiento_1,lanzamiento_2\n",
        "\n",
        "num_lanzamientos = int (input (\"Ingrese el numero de lanzamientos de ambos dados:  \"))\n",
        "\n",
        "resultado = []\n",
        "\n",
        "for _ in range(num_lanzamientos):\n",
        "  tiros = lanzamiento_dados()\n",
        "  resultado.append(tiros)\n",
        "\n",
        "for tiros in resultado:\n",
        "  print (\"lanzamiento_1: \" , tiros [0])\n",
        "  print (\"lanzamiento_2: \" , tiros [1])\n",
        "  print(\"Sumatoria de los valores:\", sum(tiros))\n",
        "  print()\n"
      ],
      "metadata": {
        "id": "TKGb03dfqhyM",
        "colab": {
          "base_uri": "https://localhost:8080/"
        },
        "outputId": "d017b9a7-7573-4c8d-ddd6-c43c0420d1ed"
      },
      "execution_count": null,
      "outputs": [
        {
          "output_type": "stream",
          "name": "stdout",
          "text": [
            "Ingrese el numero de lanzamientos de ambos dados:  3\n",
            "lanzamiento_1:  1\n",
            "lanzamiento_2:  2\n",
            "Sumatoria de los valores: 3\n",
            "\n",
            "lanzamiento_1:  6\n",
            "lanzamiento_2:  1\n",
            "Sumatoria de los valores: 7\n",
            "\n",
            "lanzamiento_1:  1\n",
            "lanzamiento_2:  5\n",
            "Sumatoria de los valores: 6\n",
            "\n"
          ]
        }
      ]
    },
    {
      "cell_type": "code",
      "source": [
        "resultado"
      ],
      "metadata": {
        "colab": {
          "base_uri": "https://localhost:8080/"
        },
        "id": "B9AkrgpqwdQw",
        "outputId": "4cea3f3c-1bc3-41dd-c210-c1d4a135e158"
      },
      "execution_count": null,
      "outputs": [
        {
          "output_type": "execute_result",
          "data": {
            "text/plain": [
              "[(1, 2), (6, 1), (1, 5)]"
            ]
          },
          "metadata": {},
          "execution_count": 16
        }
      ]
    },
    {
      "cell_type": "markdown",
      "source": [
        "Ingrese texto por teclado y crea un diccionario que almacene la cantidad de veces que\n",
        "aparece cada una de las letras o caracteres."
      ],
      "metadata": {
        "id": "1qeIOXRnOBTz"
      }
    },
    {
      "cell_type": "code",
      "source": [
        "cantidad_caracteres = {}\n",
        "\n",
        "while True:\n",
        "  palabra = input(\"Ingrese un texto (o escriba 'salir' para terminar): \")\n",
        "  if palabra.lower() == 'salir':\n",
        "        break\n",
        "\n",
        "for caracter in palabra:\n",
        "  if caracter in cantidad_caracteres:\n",
        "    cantidad_caracteres [caracter] += 1\n",
        "  else :\n",
        "    cantidad_caracteres [caracter] = 1\n",
        "\n",
        "print (\"Fin \")"
      ],
      "metadata": {
        "id": "6JI401fwOVSr",
        "outputId": "489ba415-25e1-4ff1-cbbc-211e2e4d5485",
        "colab": {
          "base_uri": "https://localhost:8080/"
        }
      },
      "execution_count": 7,
      "outputs": [
        {
          "output_type": "stream",
          "name": "stdout",
          "text": [
            "Ingrese un texto (o escriba 'salir' para terminar): amor\n",
            "Ingrese un texto (o escriba 'salir' para terminar): tolerancia\n",
            "Ingrese un texto (o escriba 'salir' para terminar): padua\n",
            "Ingrese un texto (o escriba 'salir' para terminar): mensaje\n",
            "Ingrese un texto (o escriba 'salir' para terminar): ove\n",
            "Ingrese un texto (o escriba 'salir' para terminar): salir\n",
            "Fin \n"
          ]
        }
      ]
    },
    {
      "cell_type": "code",
      "source": [
        "cantidad_caracteres"
      ],
      "metadata": {
        "id": "uBl6XU8KaAtD",
        "outputId": "39294411-8eb6-4d46-e88a-ac7736a10b5e",
        "colab": {
          "base_uri": "https://localhost:8080/"
        }
      },
      "execution_count": 8,
      "outputs": [
        {
          "output_type": "execute_result",
          "data": {
            "text/plain": [
              "{'s': 1, 'a': 1, 'l': 1, 'i': 1, 'r': 1}"
            ]
          },
          "metadata": {},
          "execution_count": 8
        }
      ]
    }
  ]
}